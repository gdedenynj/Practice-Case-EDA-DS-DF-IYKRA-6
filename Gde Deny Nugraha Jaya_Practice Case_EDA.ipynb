{
  "nbformat": 4,
  "nbformat_minor": 0,
  "metadata": {
    "colab": {
      "name": "Practice Case EDA",
      "provenance": [],
      "collapsed_sections": []
    },
    "kernelspec": {
      "name": "python3",
      "display_name": "Python 3"
    },
    "language_info": {
      "name": "python"
    }
  },
  "cells": [
    {
      "cell_type": "markdown",
      "metadata": {
        "id": "1mXdk4sFjBir"
      },
      "source": [
        "#PRACTICE CASE EDA DS DF IYKRA 6"
      ]
    },
    {
      "cell_type": "markdown",
      "metadata": {
        "id": "WvskDAPqjLEY"
      },
      "source": [
        "import *data*"
      ]
    },
    {
      "cell_type": "code",
      "metadata": {
        "id": "F94Oil-9-9pH"
      },
      "source": [
        "import pandas as pd"
      ],
      "execution_count": 1,
      "outputs": []
    },
    {
      "cell_type": "code",
      "metadata": {
        "id": "8iv3dRFp_OWM"
      },
      "source": [
        "dataEDA=pd.read_csv('epl_1819.csv', sep=',')"
      ],
      "execution_count": 2,
      "outputs": []
    },
    {
      "cell_type": "markdown",
      "metadata": {
        "id": "eE4G1NQBAfx9"
      },
      "source": [
        "#1. Is this data clean? "
      ]
    },
    {
      "cell_type": "markdown",
      "metadata": {
        "id": "YyAvWF9qjTDa"
      },
      "source": [
        "View head of data"
      ]
    },
    {
      "cell_type": "code",
      "metadata": {
        "colab": {
          "base_uri": "https://localhost:8080/",
          "height": 365
        },
        "id": "7b0ZCDCPCmCj",
        "outputId": "f111d6e5-70ab-44f1-93ee-4a4f897d1187"
      },
      "source": [
        "dataEDA.head()"
      ],
      "execution_count": 3,
      "outputs": [
        {
          "output_type": "execute_result",
          "data": {
            "text/html": [
              "<div>\n",
              "<style scoped>\n",
              "    .dataframe tbody tr th:only-of-type {\n",
              "        vertical-align: middle;\n",
              "    }\n",
              "\n",
              "    .dataframe tbody tr th {\n",
              "        vertical-align: top;\n",
              "    }\n",
              "\n",
              "    .dataframe thead th {\n",
              "        text-align: right;\n",
              "    }\n",
              "</style>\n",
              "<table border=\"1\" class=\"dataframe\">\n",
              "  <thead>\n",
              "    <tr style=\"text-align: right;\">\n",
              "      <th></th>\n",
              "      <th>Team</th>\n",
              "      <th>category</th>\n",
              "      <th>general_league_position</th>\n",
              "      <th>finance _live_games_televised</th>\n",
              "      <th>finance _tv_revenue</th>\n",
              "      <th>general_matches_played</th>\n",
              "      <th>general_won</th>\n",
              "      <th>general_draw</th>\n",
              "      <th>general_lost</th>\n",
              "      <th>attack_scored</th>\n",
              "      <th>defence_goals_conceeded</th>\n",
              "      <th>general_goal_difference</th>\n",
              "      <th>general_points</th>\n",
              "      <th>general_squad_size</th>\n",
              "      <th>general_squad_average_age</th>\n",
              "      <th>general_squad_foreigners</th>\n",
              "      <th>finance _team_market</th>\n",
              "      <th>finance _market_average</th>\n",
              "      <th>attack_passes</th>\n",
              "      <th>attack_passes_through</th>\n",
              "      <th>attack_passes_long</th>\n",
              "      <th>attack_passes_back</th>\n",
              "      <th>attack_crosses</th>\n",
              "      <th>attack_corners_taken</th>\n",
              "      <th>attack_shots</th>\n",
              "      <th>attack_shots_on_target</th>\n",
              "      <th>attack_goals_headed</th>\n",
              "      <th>attack_goals_penalty</th>\n",
              "      <th>attack_goals_box</th>\n",
              "      <th>attack_goals_outsidebox</th>\n",
              "      <th>general_card_yellow</th>\n",
              "      <th>general_card_red</th>\n",
              "      <th>attack_goals_counter</th>\n",
              "      <th>attack_goals_freekick</th>\n",
              "      <th>defence_saves</th>\n",
              "      <th>defence_blocks</th>\n",
              "      <th>defence_interceptions</th>\n",
              "      <th>defence_tackles</th>\n",
              "      <th>defence_tackles_last_man</th>\n",
              "      <th>defence_clearances</th>\n",
              "      <th>defence_clearances_headed</th>\n",
              "      <th>defence_penalty_conceeded</th>\n",
              "      <th>attack_posession</th>\n",
              "      <th>attack_pass_accuracy</th>\n",
              "    </tr>\n",
              "  </thead>\n",
              "  <tbody>\n",
              "    <tr>\n",
              "      <th>0</th>\n",
              "      <td>Manchester City</td>\n",
              "      <td>Champions League</td>\n",
              "      <td>1</td>\n",
              "      <td>26</td>\n",
              "      <td>150986355</td>\n",
              "      <td>38</td>\n",
              "      <td>32</td>\n",
              "      <td>2</td>\n",
              "      <td>4</td>\n",
              "      <td>95</td>\n",
              "      <td>23</td>\n",
              "      <td>72</td>\n",
              "      <td>98</td>\n",
              "      <td>25</td>\n",
              "      <td>27.1</td>\n",
              "      <td>20</td>\n",
              "      <td>1003200000</td>\n",
              "      <td>39987200</td>\n",
              "      <td>26,581</td>\n",
              "      <td>112</td>\n",
              "      <td>1,814</td>\n",
              "      <td>4,240</td>\n",
              "      <td>783</td>\n",
              "      <td>298</td>\n",
              "      <td>683</td>\n",
              "      <td>260</td>\n",
              "      <td>12</td>\n",
              "      <td>3</td>\n",
              "      <td>80</td>\n",
              "      <td>15</td>\n",
              "      <td>44</td>\n",
              "      <td>1</td>\n",
              "      <td>5</td>\n",
              "      <td>2</td>\n",
              "      <td>58</td>\n",
              "      <td>63</td>\n",
              "      <td>362</td>\n",
              "      <td>518</td>\n",
              "      <td>0</td>\n",
              "      <td>543</td>\n",
              "      <td>295</td>\n",
              "      <td>4</td>\n",
              "      <td>64.0</td>\n",
              "      <td>89.0</td>\n",
              "    </tr>\n",
              "    <tr>\n",
              "      <th>1</th>\n",
              "      <td>Liverpool</td>\n",
              "      <td>Champions League</td>\n",
              "      <td>2</td>\n",
              "      <td>29</td>\n",
              "      <td>152425146</td>\n",
              "      <td>38</td>\n",
              "      <td>30</td>\n",
              "      <td>7</td>\n",
              "      <td>1</td>\n",
              "      <td>89</td>\n",
              "      <td>22</td>\n",
              "      <td>67</td>\n",
              "      <td>97</td>\n",
              "      <td>24</td>\n",
              "      <td>26.8</td>\n",
              "      <td>16</td>\n",
              "      <td>836440000</td>\n",
              "      <td>34848000</td>\n",
              "      <td>23,638</td>\n",
              "      <td>98</td>\n",
              "      <td>2,250</td>\n",
              "      <td>3,416</td>\n",
              "      <td>721</td>\n",
              "      <td>249</td>\n",
              "      <td>575</td>\n",
              "      <td>226</td>\n",
              "      <td>19</td>\n",
              "      <td>7</td>\n",
              "      <td>84</td>\n",
              "      <td>5</td>\n",
              "      <td>38</td>\n",
              "      <td>2</td>\n",
              "      <td>6</td>\n",
              "      <td>1</td>\n",
              "      <td>76</td>\n",
              "      <td>78</td>\n",
              "      <td>314</td>\n",
              "      <td>610</td>\n",
              "      <td>2</td>\n",
              "      <td>639</td>\n",
              "      <td>317</td>\n",
              "      <td>1</td>\n",
              "      <td>58.8</td>\n",
              "      <td>84.4</td>\n",
              "    </tr>\n",
              "    <tr>\n",
              "      <th>2</th>\n",
              "      <td>Chelsea</td>\n",
              "      <td>Champions League Qualification</td>\n",
              "      <td>3</td>\n",
              "      <td>25</td>\n",
              "      <td>146030216</td>\n",
              "      <td>38</td>\n",
              "      <td>21</td>\n",
              "      <td>9</td>\n",
              "      <td>8</td>\n",
              "      <td>63</td>\n",
              "      <td>39</td>\n",
              "      <td>24</td>\n",
              "      <td>72</td>\n",
              "      <td>26</td>\n",
              "      <td>28.1</td>\n",
              "      <td>19</td>\n",
              "      <td>779460000</td>\n",
              "      <td>29981600</td>\n",
              "      <td>25,070</td>\n",
              "      <td>146</td>\n",
              "      <td>1,774</td>\n",
              "      <td>3,874</td>\n",
              "      <td>692</td>\n",
              "      <td>215</td>\n",
              "      <td>607</td>\n",
              "      <td>198</td>\n",
              "      <td>8</td>\n",
              "      <td>5</td>\n",
              "      <td>54</td>\n",
              "      <td>9</td>\n",
              "      <td>49</td>\n",
              "      <td>0</td>\n",
              "      <td>1</td>\n",
              "      <td>1</td>\n",
              "      <td>85</td>\n",
              "      <td>73</td>\n",
              "      <td>351</td>\n",
              "      <td>618</td>\n",
              "      <td>2</td>\n",
              "      <td>593</td>\n",
              "      <td>330</td>\n",
              "      <td>2</td>\n",
              "      <td>59.9</td>\n",
              "      <td>87.6</td>\n",
              "    </tr>\n",
              "    <tr>\n",
              "      <th>3</th>\n",
              "      <td>Tottenham</td>\n",
              "      <td>Champions League Qualification</td>\n",
              "      <td>4</td>\n",
              "      <td>26</td>\n",
              "      <td>145230801</td>\n",
              "      <td>38</td>\n",
              "      <td>23</td>\n",
              "      <td>2</td>\n",
              "      <td>13</td>\n",
              "      <td>67</td>\n",
              "      <td>39</td>\n",
              "      <td>28</td>\n",
              "      <td>71</td>\n",
              "      <td>25</td>\n",
              "      <td>27.0</td>\n",
              "      <td>17</td>\n",
              "      <td>735240000</td>\n",
              "      <td>29409600</td>\n",
              "      <td>21,295</td>\n",
              "      <td>87</td>\n",
              "      <td>2,267</td>\n",
              "      <td>3,191</td>\n",
              "      <td>643</td>\n",
              "      <td>194</td>\n",
              "      <td>537</td>\n",
              "      <td>189</td>\n",
              "      <td>14</td>\n",
              "      <td>4</td>\n",
              "      <td>53</td>\n",
              "      <td>14</td>\n",
              "      <td>56</td>\n",
              "      <td>3</td>\n",
              "      <td>5</td>\n",
              "      <td>2</td>\n",
              "      <td>121</td>\n",
              "      <td>112</td>\n",
              "      <td>326</td>\n",
              "      <td>626</td>\n",
              "      <td>3</td>\n",
              "      <td>770</td>\n",
              "      <td>411</td>\n",
              "      <td>5</td>\n",
              "      <td>56.7</td>\n",
              "      <td>83.2</td>\n",
              "    </tr>\n",
              "    <tr>\n",
              "      <th>4</th>\n",
              "      <td>Arsenal</td>\n",
              "      <td>Europa League</td>\n",
              "      <td>5</td>\n",
              "      <td>25</td>\n",
              "      <td>142193180</td>\n",
              "      <td>38</td>\n",
              "      <td>21</td>\n",
              "      <td>7</td>\n",
              "      <td>10</td>\n",
              "      <td>73</td>\n",
              "      <td>51</td>\n",
              "      <td>22</td>\n",
              "      <td>70</td>\n",
              "      <td>26</td>\n",
              "      <td>27.5</td>\n",
              "      <td>18</td>\n",
              "      <td>701800000</td>\n",
              "      <td>26989600</td>\n",
              "      <td>20,805</td>\n",
              "      <td>65</td>\n",
              "      <td>2,062</td>\n",
              "      <td>3,102</td>\n",
              "      <td>605</td>\n",
              "      <td>209</td>\n",
              "      <td>467</td>\n",
              "      <td>170</td>\n",
              "      <td>5</td>\n",
              "      <td>4</td>\n",
              "      <td>62</td>\n",
              "      <td>11</td>\n",
              "      <td>72</td>\n",
              "      <td>2</td>\n",
              "      <td>3</td>\n",
              "      <td>3</td>\n",
              "      <td>133</td>\n",
              "      <td>118</td>\n",
              "      <td>412</td>\n",
              "      <td>609</td>\n",
              "      <td>2</td>\n",
              "      <td>762</td>\n",
              "      <td>404</td>\n",
              "      <td>7</td>\n",
              "      <td>56.1</td>\n",
              "      <td>83.3</td>\n",
              "    </tr>\n",
              "  </tbody>\n",
              "</table>\n",
              "</div>"
            ],
            "text/plain": [
              "              Team  ... attack_pass_accuracy\n",
              "0  Manchester City  ...                 89.0\n",
              "1        Liverpool  ...                 84.4\n",
              "2          Chelsea  ...                 87.6\n",
              "3        Tottenham  ...                 83.2\n",
              "4          Arsenal  ...                 83.3\n",
              "\n",
              "[5 rows x 44 columns]"
            ]
          },
          "metadata": {
            "tags": []
          },
          "execution_count": 3
        }
      ]
    },
    {
      "cell_type": "markdown",
      "metadata": {
        "id": "3u8F-7JxjYxR"
      },
      "source": [
        "View summary data"
      ]
    },
    {
      "cell_type": "code",
      "metadata": {
        "colab": {
          "base_uri": "https://localhost:8080/",
          "height": 337
        },
        "id": "JNRT3cSMBBDG",
        "outputId": "b898f044-b5aa-44c8-ada0-acb172f26103"
      },
      "source": [
        "dataEDA.describe()"
      ],
      "execution_count": 4,
      "outputs": [
        {
          "output_type": "execute_result",
          "data": {
            "text/html": [
              "<div>\n",
              "<style scoped>\n",
              "    .dataframe tbody tr th:only-of-type {\n",
              "        vertical-align: middle;\n",
              "    }\n",
              "\n",
              "    .dataframe tbody tr th {\n",
              "        vertical-align: top;\n",
              "    }\n",
              "\n",
              "    .dataframe thead th {\n",
              "        text-align: right;\n",
              "    }\n",
              "</style>\n",
              "<table border=\"1\" class=\"dataframe\">\n",
              "  <thead>\n",
              "    <tr style=\"text-align: right;\">\n",
              "      <th></th>\n",
              "      <th>general_league_position</th>\n",
              "      <th>finance _live_games_televised</th>\n",
              "      <th>finance _tv_revenue</th>\n",
              "      <th>general_matches_played</th>\n",
              "      <th>general_won</th>\n",
              "      <th>general_draw</th>\n",
              "      <th>general_lost</th>\n",
              "      <th>attack_scored</th>\n",
              "      <th>defence_goals_conceeded</th>\n",
              "      <th>general_goal_difference</th>\n",
              "      <th>general_points</th>\n",
              "      <th>general_squad_size</th>\n",
              "      <th>general_squad_average_age</th>\n",
              "      <th>general_squad_foreigners</th>\n",
              "      <th>finance _team_market</th>\n",
              "      <th>finance _market_average</th>\n",
              "      <th>attack_passes_through</th>\n",
              "      <th>attack_crosses</th>\n",
              "      <th>attack_corners_taken</th>\n",
              "      <th>attack_shots</th>\n",
              "      <th>attack_shots_on_target</th>\n",
              "      <th>attack_goals_headed</th>\n",
              "      <th>attack_goals_penalty</th>\n",
              "      <th>attack_goals_box</th>\n",
              "      <th>attack_goals_outsidebox</th>\n",
              "      <th>general_card_yellow</th>\n",
              "      <th>general_card_red</th>\n",
              "      <th>attack_goals_counter</th>\n",
              "      <th>attack_goals_freekick</th>\n",
              "      <th>defence_saves</th>\n",
              "      <th>defence_blocks</th>\n",
              "      <th>defence_interceptions</th>\n",
              "      <th>defence_tackles</th>\n",
              "      <th>defence_tackles_last_man</th>\n",
              "      <th>defence_clearances_headed</th>\n",
              "      <th>defence_penalty_conceeded</th>\n",
              "      <th>attack_posession</th>\n",
              "      <th>attack_pass_accuracy</th>\n",
              "    </tr>\n",
              "  </thead>\n",
              "  <tbody>\n",
              "    <tr>\n",
              "      <th>count</th>\n",
              "      <td>20.00000</td>\n",
              "      <td>20.000000</td>\n",
              "      <td>2.000000e+01</td>\n",
              "      <td>20.0</td>\n",
              "      <td>20.000000</td>\n",
              "      <td>20.00000</td>\n",
              "      <td>20.000000</td>\n",
              "      <td>20.000000</td>\n",
              "      <td>20.000000</td>\n",
              "      <td>20.000000</td>\n",
              "      <td>20.000000</td>\n",
              "      <td>20.000000</td>\n",
              "      <td>20.000000</td>\n",
              "      <td>20.000000</td>\n",
              "      <td>2.000000e+01</td>\n",
              "      <td>2.000000e+01</td>\n",
              "      <td>20.000000</td>\n",
              "      <td>20.000000</td>\n",
              "      <td>20.000000</td>\n",
              "      <td>20.000000</td>\n",
              "      <td>20.000000</td>\n",
              "      <td>20.000000</td>\n",
              "      <td>20.000000</td>\n",
              "      <td>20.000000</td>\n",
              "      <td>20.000000</td>\n",
              "      <td>20.000000</td>\n",
              "      <td>20.000000</td>\n",
              "      <td>20.000000</td>\n",
              "      <td>20.000000</td>\n",
              "      <td>20.000000</td>\n",
              "      <td>20.000000</td>\n",
              "      <td>20.000000</td>\n",
              "      <td>20.000000</td>\n",
              "      <td>20.000000</td>\n",
              "      <td>20.000000</td>\n",
              "      <td>20.000000</td>\n",
              "      <td>20.000000</td>\n",
              "      <td>20.000000</td>\n",
              "    </tr>\n",
              "    <tr>\n",
              "      <th>mean</th>\n",
              "      <td>10.50000</td>\n",
              "      <td>17.100000</td>\n",
              "      <td>1.228004e+08</td>\n",
              "      <td>38.0</td>\n",
              "      <td>15.450000</td>\n",
              "      <td>7.10000</td>\n",
              "      <td>15.450000</td>\n",
              "      <td>53.600000</td>\n",
              "      <td>53.600000</td>\n",
              "      <td>0.000000</td>\n",
              "      <td>53.450000</td>\n",
              "      <td>25.250000</td>\n",
              "      <td>27.490000</td>\n",
              "      <td>17.450000</td>\n",
              "      <td>3.750362e+08</td>\n",
              "      <td>1.498508e+07</td>\n",
              "      <td>58.700000</td>\n",
              "      <td>666.650000</td>\n",
              "      <td>195.350000</td>\n",
              "      <td>481.650000</td>\n",
              "      <td>165.550000</td>\n",
              "      <td>9.300000</td>\n",
              "      <td>4.200000</td>\n",
              "      <td>46.400000</td>\n",
              "      <td>7.250000</td>\n",
              "      <td>61.100000</td>\n",
              "      <td>2.350000</td>\n",
              "      <td>3.350000</td>\n",
              "      <td>1.150000</td>\n",
              "      <td>111.950000</td>\n",
              "      <td>127.750000</td>\n",
              "      <td>429.300000</td>\n",
              "      <td>646.250000</td>\n",
              "      <td>3.200000</td>\n",
              "      <td>429.400000</td>\n",
              "      <td>5.350000</td>\n",
              "      <td>49.995000</td>\n",
              "      <td>78.310000</td>\n",
              "    </tr>\n",
              "    <tr>\n",
              "      <th>std</th>\n",
              "      <td>5.91608</td>\n",
              "      <td>6.734827</td>\n",
              "      <td>1.821686e+07</td>\n",
              "      <td>0.0</td>\n",
              "      <td>7.250953</td>\n",
              "      <td>2.44734</td>\n",
              "      <td>6.778255</td>\n",
              "      <td>18.071204</td>\n",
              "      <td>15.752694</td>\n",
              "      <td>32.371202</td>\n",
              "      <td>21.007455</td>\n",
              "      <td>1.802776</td>\n",
              "      <td>0.938588</td>\n",
              "      <td>4.071402</td>\n",
              "      <td>2.821444e+08</td>\n",
              "      <td>1.127381e+07</td>\n",
              "      <td>33.625022</td>\n",
              "      <td>75.524325</td>\n",
              "      <td>34.776391</td>\n",
              "      <td>78.333481</td>\n",
              "      <td>39.323858</td>\n",
              "      <td>3.934998</td>\n",
              "      <td>2.546411</td>\n",
              "      <td>16.044018</td>\n",
              "      <td>4.165965</td>\n",
              "      <td>10.557611</td>\n",
              "      <td>1.424411</td>\n",
              "      <td>2.433862</td>\n",
              "      <td>1.136708</td>\n",
              "      <td>24.267099</td>\n",
              "      <td>37.160923</td>\n",
              "      <td>71.058982</td>\n",
              "      <td>65.310493</td>\n",
              "      <td>1.880649</td>\n",
              "      <td>84.536756</td>\n",
              "      <td>2.109502</td>\n",
              "      <td>6.387692</td>\n",
              "      <td>5.866129</td>\n",
              "    </tr>\n",
              "    <tr>\n",
              "      <th>min</th>\n",
              "      <td>1.00000</td>\n",
              "      <td>10.000000</td>\n",
              "      <td>9.662886e+07</td>\n",
              "      <td>38.0</td>\n",
              "      <td>3.000000</td>\n",
              "      <td>2.00000</td>\n",
              "      <td>1.000000</td>\n",
              "      <td>22.000000</td>\n",
              "      <td>22.000000</td>\n",
              "      <td>-54.000000</td>\n",
              "      <td>16.000000</td>\n",
              "      <td>20.000000</td>\n",
              "      <td>26.100000</td>\n",
              "      <td>10.000000</td>\n",
              "      <td>8.549200e+07</td>\n",
              "      <td>3.053600e+06</td>\n",
              "      <td>15.000000</td>\n",
              "      <td>562.000000</td>\n",
              "      <td>140.000000</td>\n",
              "      <td>360.000000</td>\n",
              "      <td>108.000000</td>\n",
              "      <td>4.000000</td>\n",
              "      <td>1.000000</td>\n",
              "      <td>17.000000</td>\n",
              "      <td>1.000000</td>\n",
              "      <td>38.000000</td>\n",
              "      <td>0.000000</td>\n",
              "      <td>0.000000</td>\n",
              "      <td>0.000000</td>\n",
              "      <td>58.000000</td>\n",
              "      <td>63.000000</td>\n",
              "      <td>314.000000</td>\n",
              "      <td>518.000000</td>\n",
              "      <td>0.000000</td>\n",
              "      <td>246.000000</td>\n",
              "      <td>1.000000</td>\n",
              "      <td>39.100000</td>\n",
              "      <td>63.900000</td>\n",
              "    </tr>\n",
              "    <tr>\n",
              "      <th>25%</th>\n",
              "      <td>5.75000</td>\n",
              "      <td>11.750000</td>\n",
              "      <td>1.069409e+08</td>\n",
              "      <td>38.0</td>\n",
              "      <td>10.750000</td>\n",
              "      <td>6.75000</td>\n",
              "      <td>12.250000</td>\n",
              "      <td>44.250000</td>\n",
              "      <td>46.000000</td>\n",
              "      <td>-20.750000</td>\n",
              "      <td>39.750000</td>\n",
              "      <td>25.000000</td>\n",
              "      <td>26.800000</td>\n",
              "      <td>15.500000</td>\n",
              "      <td>1.723480e+08</td>\n",
              "      <td>6.747400e+06</td>\n",
              "      <td>34.500000</td>\n",
              "      <td>612.500000</td>\n",
              "      <td>174.750000</td>\n",
              "      <td>440.000000</td>\n",
              "      <td>145.000000</td>\n",
              "      <td>6.500000</td>\n",
              "      <td>2.000000</td>\n",
              "      <td>38.500000</td>\n",
              "      <td>4.750000</td>\n",
              "      <td>55.750000</td>\n",
              "      <td>1.000000</td>\n",
              "      <td>1.000000</td>\n",
              "      <td>0.000000</td>\n",
              "      <td>94.750000</td>\n",
              "      <td>108.000000</td>\n",
              "      <td>364.250000</td>\n",
              "      <td>604.500000</td>\n",
              "      <td>2.000000</td>\n",
              "      <td>390.250000</td>\n",
              "      <td>4.750000</td>\n",
              "      <td>46.300000</td>\n",
              "      <td>75.550000</td>\n",
              "    </tr>\n",
              "    <tr>\n",
              "      <th>50%</th>\n",
              "      <td>10.50000</td>\n",
              "      <td>15.000000</td>\n",
              "      <td>1.213295e+08</td>\n",
              "      <td>38.0</td>\n",
              "      <td>14.500000</td>\n",
              "      <td>7.00000</td>\n",
              "      <td>16.000000</td>\n",
              "      <td>51.500000</td>\n",
              "      <td>53.500000</td>\n",
              "      <td>-2.500000</td>\n",
              "      <td>51.000000</td>\n",
              "      <td>25.500000</td>\n",
              "      <td>27.250000</td>\n",
              "      <td>18.000000</td>\n",
              "      <td>2.317260e+08</td>\n",
              "      <td>9.935200e+06</td>\n",
              "      <td>50.500000</td>\n",
              "      <td>640.500000</td>\n",
              "      <td>193.500000</td>\n",
              "      <td>472.000000</td>\n",
              "      <td>159.500000</td>\n",
              "      <td>9.500000</td>\n",
              "      <td>4.000000</td>\n",
              "      <td>44.000000</td>\n",
              "      <td>7.000000</td>\n",
              "      <td>59.500000</td>\n",
              "      <td>2.000000</td>\n",
              "      <td>3.000000</td>\n",
              "      <td>1.000000</td>\n",
              "      <td>113.500000</td>\n",
              "      <td>132.000000</td>\n",
              "      <td>434.500000</td>\n",
              "      <td>655.000000</td>\n",
              "      <td>3.500000</td>\n",
              "      <td>445.000000</td>\n",
              "      <td>5.000000</td>\n",
              "      <td>48.350000</td>\n",
              "      <td>78.150000</td>\n",
              "    </tr>\n",
              "    <tr>\n",
              "      <th>75%</th>\n",
              "      <td>15.25000</td>\n",
              "      <td>25.000000</td>\n",
              "      <td>1.422731e+08</td>\n",
              "      <td>38.0</td>\n",
              "      <td>19.500000</td>\n",
              "      <td>9.00000</td>\n",
              "      <td>19.250000</td>\n",
              "      <td>63.500000</td>\n",
              "      <td>65.750000</td>\n",
              "      <td>13.750000</td>\n",
              "      <td>67.000000</td>\n",
              "      <td>26.000000</td>\n",
              "      <td>28.150000</td>\n",
              "      <td>20.000000</td>\n",
              "      <td>5.882800e+08</td>\n",
              "      <td>2.326060e+07</td>\n",
              "      <td>78.000000</td>\n",
              "      <td>713.500000</td>\n",
              "      <td>209.250000</td>\n",
              "      <td>517.750000</td>\n",
              "      <td>185.250000</td>\n",
              "      <td>12.000000</td>\n",
              "      <td>5.000000</td>\n",
              "      <td>53.250000</td>\n",
              "      <td>10.000000</td>\n",
              "      <td>71.250000</td>\n",
              "      <td>4.000000</td>\n",
              "      <td>5.000000</td>\n",
              "      <td>2.000000</td>\n",
              "      <td>128.500000</td>\n",
              "      <td>147.250000</td>\n",
              "      <td>472.500000</td>\n",
              "      <td>702.500000</td>\n",
              "      <td>4.000000</td>\n",
              "      <td>499.250000</td>\n",
              "      <td>7.000000</td>\n",
              "      <td>54.000000</td>\n",
              "      <td>82.525000</td>\n",
              "    </tr>\n",
              "    <tr>\n",
              "      <th>max</th>\n",
              "      <td>20.00000</td>\n",
              "      <td>29.000000</td>\n",
              "      <td>1.524251e+08</td>\n",
              "      <td>38.0</td>\n",
              "      <td>32.000000</td>\n",
              "      <td>12.00000</td>\n",
              "      <td>28.000000</td>\n",
              "      <td>95.000000</td>\n",
              "      <td>81.000000</td>\n",
              "      <td>72.000000</td>\n",
              "      <td>98.000000</td>\n",
              "      <td>28.000000</td>\n",
              "      <td>29.700000</td>\n",
              "      <td>27.000000</td>\n",
              "      <td>1.003200e+09</td>\n",
              "      <td>3.998720e+07</td>\n",
              "      <td>146.000000</td>\n",
              "      <td>814.000000</td>\n",
              "      <td>298.000000</td>\n",
              "      <td>683.000000</td>\n",
              "      <td>260.000000</td>\n",
              "      <td>19.000000</td>\n",
              "      <td>10.000000</td>\n",
              "      <td>84.000000</td>\n",
              "      <td>15.000000</td>\n",
              "      <td>77.000000</td>\n",
              "      <td>5.000000</td>\n",
              "      <td>9.000000</td>\n",
              "      <td>3.000000</td>\n",
              "      <td>148.000000</td>\n",
              "      <td>222.000000</td>\n",
              "      <td>548.000000</td>\n",
              "      <td>730.000000</td>\n",
              "      <td>8.000000</td>\n",
              "      <td>564.000000</td>\n",
              "      <td>10.000000</td>\n",
              "      <td>64.000000</td>\n",
              "      <td>89.000000</td>\n",
              "    </tr>\n",
              "  </tbody>\n",
              "</table>\n",
              "</div>"
            ],
            "text/plain": [
              "       general_league_position  ...  attack_pass_accuracy\n",
              "count                 20.00000  ...             20.000000\n",
              "mean                  10.50000  ...             78.310000\n",
              "std                    5.91608  ...              5.866129\n",
              "min                    1.00000  ...             63.900000\n",
              "25%                    5.75000  ...             75.550000\n",
              "50%                   10.50000  ...             78.150000\n",
              "75%                   15.25000  ...             82.525000\n",
              "max                   20.00000  ...             89.000000\n",
              "\n",
              "[8 rows x 38 columns]"
            ]
          },
          "metadata": {
            "tags": []
          },
          "execution_count": 4
        }
      ]
    },
    {
      "cell_type": "markdown",
      "metadata": {
        "id": "mDGvqnrBjcuF"
      },
      "source": [
        "View the number of columns and rows"
      ]
    },
    {
      "cell_type": "code",
      "metadata": {
        "colab": {
          "base_uri": "https://localhost:8080/"
        },
        "id": "XS_fNciQ_Ukw",
        "outputId": "5acc76aa-20f3-4a25-e04b-38dc8b535e54"
      },
      "source": [
        "# check data shape\n",
        "dataEDA.shape"
      ],
      "execution_count": null,
      "outputs": [
        {
          "output_type": "execute_result",
          "data": {
            "text/plain": [
              "(20, 44)"
            ]
          },
          "metadata": {
            "tags": []
          },
          "execution_count": 7
        }
      ]
    },
    {
      "cell_type": "markdown",
      "metadata": {
        "id": "pAB8Biesjj02"
      },
      "source": [
        "View type of data column"
      ]
    },
    {
      "cell_type": "code",
      "metadata": {
        "colab": {
          "base_uri": "https://localhost:8080/"
        },
        "id": "yd3IMQ1R_X-7",
        "outputId": "f1e4fb61-2fec-4226-9e54-70e8f6f4bc13"
      },
      "source": [
        "#check data type\n",
        "dataEDA.dtypes"
      ],
      "execution_count": null,
      "outputs": [
        {
          "output_type": "execute_result",
          "data": {
            "text/plain": [
              "Team                              object\n",
              "category                          object\n",
              "general_league_position            int64\n",
              "finance _live_games_televised      int64\n",
              "finance _tv_revenue                int64\n",
              "general_matches_played             int64\n",
              "general_won                        int64\n",
              "general_draw                       int64\n",
              "general_lost                       int64\n",
              "attack_scored                      int64\n",
              "defence_goals_conceeded            int64\n",
              "general_goal_difference            int64\n",
              "general_points                     int64\n",
              "general_squad_size                 int64\n",
              "general_squad_average_age        float64\n",
              "general_squad_foreigners           int64\n",
              "finance _team_market               int64\n",
              "finance _market_average            int64\n",
              "attack_passes                     object\n",
              "attack_passes_through              int64\n",
              "attack_passes_long                object\n",
              "attack_passes_back                object\n",
              "attack_crosses                     int64\n",
              "attack_corners_taken               int64\n",
              "attack_shots                       int64\n",
              "attack_shots_on_target             int64\n",
              "attack_goals_headed                int64\n",
              "attack_goals_penalty               int64\n",
              "attack_goals_box                   int64\n",
              "attack_goals_outsidebox            int64\n",
              "general_card_yellow                int64\n",
              "general_card_red                   int64\n",
              "attack_goals_counter               int64\n",
              "attack_goals_freekick              int64\n",
              "defence_saves                      int64\n",
              "defence_blocks                     int64\n",
              "defence_interceptions              int64\n",
              "defence_tackles                    int64\n",
              "defence_tackles_last_man           int64\n",
              "defence_clearances                object\n",
              "defence_clearances_headed          int64\n",
              "defence_penalty_conceeded          int64\n",
              "attack_posession                 float64\n",
              "attack_pass_accuracy             float64\n",
              "dtype: object"
            ]
          },
          "metadata": {
            "tags": []
          },
          "execution_count": 8
        }
      ]
    },
    {
      "cell_type": "code",
      "metadata": {
        "id": "rbDyxKzof3gM"
      },
      "source": [
        "#remove comma in data\n",
        "dataEDA= dataEDA.replace(\",\",\"\", regex=True))"
      ],
      "execution_count": 11,
      "outputs": []
    },
    {
      "cell_type": "code",
      "metadata": {
        "id": "O3iTrZd5n-xc"
      },
      "source": [
        "#change type object to int\n",
        "dataEDA[['attack_passes','attack_passes_long','attack_passes_back','defence_clearances']]=dataEDA[['attack_passes','attack_passes_long','attack_passes_back','defence_clearances']].astype('int')"
      ],
      "execution_count": 27,
      "outputs": []
    },
    {
      "cell_type": "markdown",
      "metadata": {
        "id": "aboSvLzOj1BC"
      },
      "source": [
        "Missing Value"
      ]
    },
    {
      "cell_type": "code",
      "metadata": {
        "colab": {
          "base_uri": "https://localhost:8080/"
        },
        "id": "B2G5aQkd_lif",
        "outputId": "a503c376-6eca-4b6c-da43-6b386a87c079"
      },
      "source": [
        "x#check missing\n",
        "dataEDA.isnull().sum()"
      ],
      "execution_count": null,
      "outputs": [
        {
          "output_type": "execute_result",
          "data": {
            "text/plain": [
              "Team                             0\n",
              "category                         0\n",
              "general_league_position          0\n",
              "finance _live_games_televised    0\n",
              "finance _tv_revenue              0\n",
              "general_matches_played           0\n",
              "general_won                      0\n",
              "general_draw                     0\n",
              "general_lost                     0\n",
              "attack_scored                    0\n",
              "defence_goals_conceeded          0\n",
              "general_goal_difference          0\n",
              "general_points                   0\n",
              "general_squad_size               0\n",
              "general_squad_average_age        0\n",
              "general_squad_foreigners         0\n",
              "finance _team_market             0\n",
              "finance _market_average          0\n",
              "attack_passes                    0\n",
              "attack_passes_through            0\n",
              "attack_passes_long               0\n",
              "attack_passes_back               0\n",
              "attack_crosses                   0\n",
              "attack_corners_taken             0\n",
              "attack_shots                     0\n",
              "attack_shots_on_target           0\n",
              "attack_goals_headed              0\n",
              "attack_goals_penalty             0\n",
              "attack_goals_box                 0\n",
              "attack_goals_outsidebox          0\n",
              "general_card_yellow              0\n",
              "general_card_red                 0\n",
              "attack_goals_counter             0\n",
              "attack_goals_freekick            0\n",
              "defence_saves                    0\n",
              "defence_blocks                   0\n",
              "defence_interceptions            0\n",
              "defence_tackles                  0\n",
              "defence_tackles_last_man         0\n",
              "defence_clearances               0\n",
              "defence_clearances_headed        0\n",
              "defence_penalty_conceeded        0\n",
              "attack_posession                 0\n",
              "attack_pass_accuracy             0\n",
              "dtype: int64"
            ]
          },
          "metadata": {
            "tags": []
          },
          "execution_count": 9
        }
      ]
    },
    {
      "cell_type": "markdown",
      "metadata": {
        "id": "fWqvIo-Ij3as"
      },
      "source": [
        "Data duplication"
      ]
    },
    {
      "cell_type": "code",
      "metadata": {
        "colab": {
          "base_uri": "https://localhost:8080/"
        },
        "id": "VBoF6sUlA6Ry",
        "outputId": "871a17b0-6a41-40bc-c3e1-bfc8b848cc6c"
      },
      "source": [
        "#check data duplicated\n",
        "dataEDA.duplicated('Team').sum()"
      ],
      "execution_count": 13,
      "outputs": [
        {
          "output_type": "execute_result",
          "data": {
            "text/plain": [
              "0"
            ]
          },
          "metadata": {
            "tags": []
          },
          "execution_count": 13
        }
      ]
    },
    {
      "cell_type": "markdown",
      "metadata": {
        "id": "1-2CWXGfj8dT"
      },
      "source": [
        "See the percentage of the number of outliers to the total amount of data"
      ]
    },
    {
      "cell_type": "code",
      "metadata": {
        "colab": {
          "base_uri": "https://localhost:8080/"
        },
        "id": "e3UjQratBLxq",
        "outputId": "a3a6ed88-ee44-403b-cfe3-92f0735b1ba6"
      },
      "source": [
        "#check outlier\n",
        "Q1 = dataEDA.quantile(0.25)\n",
        "Q3 = dataEDA.quantile(0.75)\n",
        "IQR = Q3 - Q1\n",
        "\n",
        "(((dataEDA < (Q1 - 1.5 * IQR)) | (dataEDA > (Q3 + 1.5 * IQR))).sum())/len(dataEDA)"
      ],
      "execution_count": null,
      "outputs": [
        {
          "output_type": "execute_result",
          "data": {
            "text/plain": [
              "Team                             0.00\n",
              "attack_corners_taken             0.05\n",
              "attack_crosses                   0.00\n",
              "attack_goals_box                 0.10\n",
              "attack_goals_counter             0.00\n",
              "attack_goals_freekick            0.00\n",
              "attack_goals_headed              0.00\n",
              "attack_goals_outsidebox          0.00\n",
              "attack_goals_penalty             0.05\n",
              "attack_pass_accuracy             0.05\n",
              "attack_passes                    0.00\n",
              "attack_passes_back               0.00\n",
              "attack_passes_long               0.00\n",
              "attack_passes_through            0.05\n",
              "attack_posession                 0.00\n",
              "attack_scored                    0.05\n",
              "attack_shots                     0.05\n",
              "attack_shots_on_target           0.05\n",
              "category                         0.00\n",
              "defence_blocks                   0.05\n",
              "defence_clearances               0.00\n",
              "defence_clearances_headed        0.00\n",
              "defence_goals_conceeded          0.00\n",
              "defence_interceptions            0.00\n",
              "defence_penalty_conceeded        0.05\n",
              "defence_saves                    0.00\n",
              "defence_tackles                  0.00\n",
              "defence_tackles_last_man         0.05\n",
              "finance _live_games_televised    0.00\n",
              "finance _market_average          0.00\n",
              "finance _team_market             0.00\n",
              "finance _tv_revenue              0.00\n",
              "general_card_red                 0.00\n",
              "general_card_yellow              0.00\n",
              "general_draw                     0.10\n",
              "general_goal_difference          0.10\n",
              "general_league_position          0.00\n",
              "general_lost                     0.05\n",
              "general_matches_played           0.00\n",
              "general_points                   0.00\n",
              "general_squad_average_age        0.00\n",
              "general_squad_foreigners         0.05\n",
              "general_squad_size               0.25\n",
              "general_won                      0.00\n",
              "dtype: float64"
            ]
          },
          "metadata": {
            "tags": []
          },
          "execution_count": 40
        }
      ]
    },
    {
      "cell_type": "markdown",
      "metadata": {
        "id": "9WwcInldGQwL"
      },
      "source": [
        "#2. How is the point distribution of the epl team? and which team is an anomaly?"
      ]
    },
    {
      "cell_type": "code",
      "metadata": {
        "colab": {
          "base_uri": "https://localhost:8080/",
          "height": 368
        },
        "id": "lrPnuMVDHpfk",
        "outputId": "9cdf4083-bf2b-4d41-c28d-78978f41fd33"
      },
      "source": [
        "#make distribution plot\n",
        "import seaborn as sns\n",
        "sns.distplot(dataEDA['general_points']).set(title='Point Distribution Team EPL')"
      ],
      "execution_count": 70,
      "outputs": [
        {
          "output_type": "stream",
          "text": [
            "/usr/local/lib/python3.7/dist-packages/seaborn/distributions.py:2557: FutureWarning: `distplot` is a deprecated function and will be removed in a future version. Please adapt your code to use either `displot` (a figure-level function with similar flexibility) or `histplot` (an axes-level function for histograms).\n",
            "  warnings.warn(msg, FutureWarning)\n"
          ],
          "name": "stderr"
        },
        {
          "output_type": "execute_result",
          "data": {
            "text/plain": [
              "[Text(0.5, 1.0, 'Point Distribution Team EPL')]"
            ]
          },
          "metadata": {
            "tags": []
          },
          "execution_count": 70
        },
        {
          "output_type": "display_data",
          "data": {
            "image/png": "[encoded data removed]",
            "text/plain": [
              "<Figure size 432x288 with 1 Axes>"
            ]
          },
          "metadata": {
            "tags": [],
            "needs_background": "light"
          }
        }
      ]
    },
    {
      "cell_type": "markdown",
      "metadata": {
        "id": "_wfwft8LKUjr"
      },
      "source": [
        "#3. Which team has the best attack? "
      ]
    },
    {
      "cell_type": "code",
      "metadata": {
        "colab": {
          "base_uri": "https://localhost:8080/",
          "height": 313
        },
        "id": "KUQ0hZAa04Bc",
        "outputId": "6d522f1f-0b3b-4c91-e910-4137f8df4226"
      },
      "source": [
        "#plot team based on goals\n",
        "sns.barplot(data=dataEDA, x=\"attack_scored\", y=\"Team\").set(title='Top Goals in EPL 18/19')"
      ],
      "execution_count": 60,
      "outputs": [
        {
          "output_type": "execute_result",
          "data": {
            "text/plain": [
              "[Text(0.5, 1.0, 'Top Goals in EPL 18/19')]"
            ]
          },
          "metadata": {
            "tags": []
          },
          "execution_count": 60
        },
        {
          "output_type": "display_data",
          "data": {
            "image/png": "[encoded data removed]",
            "text/plain": [
              "<Figure size 432x288 with 1 Axes>"
            ]
          },
          "metadata": {
            "tags": [],
            "needs_background": "light"
          }
        }
      ]
    },
    {
      "cell_type": "markdown",
      "metadata": {
        "id": "X8HJyEZAuvAr"
      },
      "source": [
        "#4.\tWhich team has the best defence? "
      ]
    },
    {
      "cell_type": "code",
      "metadata": {
        "colab": {
          "base_uri": "https://localhost:8080/",
          "height": 313
        },
        "id": "XuVStdfauqSJ",
        "outputId": "d0ad5a9e-41f4-458f-8618-98dfd7c122dd"
      },
      "source": [
        "#plot team based on goals conceded\n",
        "sns.barplot(data=dataEDA, x=\"defence_goals_conceeded\", y=\"Team\").set(title='Goals conceded in Team EPL 18/19')"
      ],
      "execution_count": 72,
      "outputs": [
        {
          "output_type": "execute_result",
          "data": {
            "text/plain": [
              "[Text(0.5, 1.0, 'Goals conceded in Team EPL 18/19')]"
            ]
          },
          "metadata": {
            "tags": []
          },
          "execution_count": 72
        },
        {
          "output_type": "display_data",
          "data": {
            "image/png": "[encoded data removed]",
            "text/plain": [
              "<Figure size 432x288 with 1 Axes>"
            ]
          },
          "metadata": {
            "tags": [],
            "needs_background": "light"
          }
        }
      ]
    },
    {
      "cell_type": "markdown",
      "metadata": {
        "id": "RuF11qw22MNS"
      },
      "source": [
        "#5.\tWhich team is good in the financial aspect? "
      ]
    },
    {
      "cell_type": "code",
      "metadata": {
        "id": "Nbqs9VP6wBos"
      },
      "source": [
        "#sum total revenue\n",
        "dataEDA['total_revenue']=dataEDA['finance _tv_revenue']+dataEDA['finance _team_market']+dataEDA['finance _market_average']"
      ],
      "execution_count": 65,
      "outputs": []
    },
    {
      "cell_type": "code",
      "metadata": {
        "colab": {
          "base_uri": "https://localhost:8080/",
          "height": 313
        },
        "id": "mZiymvgW5eGY",
        "outputId": "e75d4120-ed09-45fb-9cdd-394772ffea0c"
      },
      "source": [
        "#plot team based on revenue\n",
        "sns.barplot(data=dataEDA, x=\"total_revenue\", y=\"Team\").set(title='Total revenue team in EPL 18/19')"
      ],
      "execution_count": 73,
      "outputs": [
        {
          "output_type": "execute_result",
          "data": {
            "text/plain": [
              "[Text(0.5, 1.0, 'Total revenue team in EPL 18/19')]"
            ]
          },
          "metadata": {
            "tags": []
          },
          "execution_count": 73
        },
        {
          "output_type": "display_data",
          "data": {
            "image/png": "[encoded data removed]",
            "text/plain": [
              "<Figure size 432x288 with 1 Axes>"
            ]
          },
          "metadata": {
            "tags": [],
            "needs_background": "light"
          }
        }
      ]
    },
    {
      "cell_type": "markdown",
      "metadata": {
        "id": "V4CwLRIF7xcS"
      },
      "source": [
        "#6.\tExplore your creativity!"
      ]
    },
    {
      "cell_type": "markdown",
      "metadata": {
        "id": "9NVO5wFE8Y0M"
      },
      "source": [
        "View correlation of match results and revenue"
      ]
    },
    {
      "cell_type": "code",
      "metadata": {
        "colab": {
          "base_uri": "https://localhost:8080/",
          "height": 295
        },
        "id": "erY5Qg_p9Jlb",
        "outputId": "09e2a05a-b353-4d5f-93ee-03fa7e0a3bc7"
      },
      "source": [
        "# multiple line plots\n",
        "plt.plot( 'total_revenue', 'general_won', data=dataEDA, marker='', color='blue', linewidth=2)\n",
        "plt.plot( 'total_revenue', 'general_draw', data=dataEDA, marker='', color='yellow', linewidth=2)\n",
        "plt.plot( 'total_revenue', 'general_lost', data=dataEDA, marker='', color='red', linewidth=2)\n",
        "# show legend\n",
        "plt.legend()\n",
        "plt.title('Win, draw, and lost in revenue epl')\n",
        "plt.xlabel('Revenue team epl 18/19')\n",
        "\n",
        "# show graph\n",
        "plt.show()"
      ],
      "execution_count": 116,
      "outputs": [
        {
          "output_type": "display_data",
          "data": {
            "image/png": "[encoded data removed]",
            "text/plain": [
              "<Figure size 432x288 with 1 Axes>"
            ]
          },
          "metadata": {
            "tags": [],
            "needs_background": "light"
          }
        }
      ]
    },
    {
      "cell_type": "markdown",
      "metadata": {
        "id": "_R8N7947Ia7V"
      },
      "source": [
        "View corelation squad conditions with team wins"
      ]
    },
    {
      "cell_type": "code",
      "metadata": {
        "colab": {
          "base_uri": "https://localhost:8080/",
          "height": 295
        },
        "id": "JcDu2UGNBFmN",
        "outputId": "2103a68f-877b-4554-a0e8-9189b21cc714"
      },
      "source": [
        "# multiple line plots\n",
        "plt.plot( 'general_won', 'general_squad_size', data=dataEDA, marker='', color='green', linewidth=2)\n",
        "plt.plot( 'general_won', 'general_squad_average_age', data=dataEDA, marker='', color='purple', linewidth=2)\n",
        "plt.plot( 'general_won', 'general_squad_foreigners', data=dataEDA, marker='', color='orange', linewidth=2)\n",
        "# show legend\n",
        "plt.legend()\n",
        "plt.title('Size, average age, and foreigners team epl 18/19')\n",
        "plt.xlabel('Number win team epl 18/19')\n",
        "\n",
        "# show graph\n",
        "plt.show()"
      ],
      "execution_count": 121,
      "outputs": [
        {
          "output_type": "display_data",
          "data": {
            "image/png": "[encoded data removed]",
            "text/plain": [
              "<Figure size 432x288 with 1 Axes>"
            ]
          },
          "metadata": {
            "tags": [],
            "needs_background": "light"
          }
        }
      ]
    }
  ]
}